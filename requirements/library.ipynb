{
 "cells": [
  {
   "cell_type": "markdown",
   "id": "cbca0364-7503-4a2b-b61f-c96ddb4264aa",
   "metadata": {},
   "source": [
    "# 📌 라이브러리 설치\n",
    "다음 라이브러리들은 음성 인식, 자연어 처리, 컴퓨터 비전, 딥러닝 모델 구현 등에 사용됩니다.\n",
    "- `keyboard`: 키보드 이벤트 감지\n",
    "- `speechrecognition`: 음성 인식\n",
    "- `transformers`: NLP 모델 활용\n",
    "- `torch`, `torchvision`, `torchaudio`: PyTorch 기반 딥러닝 및 데이터 처리\n",
    "- `ipywidgets`: 주피터에서 대화형 UI 구성"
   ]
  },
  {
   "cell_type": "code",
   "execution_count": null,
   "id": "d6223371-12bb-4391-9738-4f47fd92aa62",
   "metadata": {},
   "outputs": [],
   "source": [
    "pip install keyboard"
   ]
  },
  {
   "cell_type": "code",
   "execution_count": null,
   "id": "49e00746-caa1-4f48-944b-554e24d03eb1",
   "metadata": {},
   "outputs": [],
   "source": [
    "pip install speechrecognition"
   ]
  },
  {
   "cell_type": "code",
   "execution_count": null,
   "id": "227dcf16-990b-49aa-96b7-631e1f828f66",
   "metadata": {
    "scrolled": true
   },
   "outputs": [],
   "source": [
    "pip install transformers"
   ]
  },
  {
   "cell_type": "code",
   "execution_count": null,
   "id": "638bf49a-79cb-4388-8e66-876c615ca5e2",
   "metadata": {},
   "outputs": [],
   "source": [
    "pip install torch"
   ]
  },
  {
   "cell_type": "code",
   "execution_count": null,
   "id": "5180d566-ab46-48ee-b2b7-b51d78e4e9bb",
   "metadata": {},
   "outputs": [],
   "source": [
    "pip install torchaudio"
   ]
  },
  {
   "cell_type": "code",
   "execution_count": null,
   "id": "29e42887-0b33-41a3-8043-940e9a6f6aeb",
   "metadata": {},
   "outputs": [],
   "source": [
    "pip install torchvision "
   ]
  },
  {
   "cell_type": "code",
   "execution_count": null,
   "id": "b20c8ce7-5df7-4114-8f5f-29e6f946c59a",
   "metadata": {},
   "outputs": [],
   "source": [
    "pip install ipywidgets"
   ]
  }
 ],
 "metadata": {
  "kernelspec": {
   "display_name": "Python 3 (ipykernel)",
   "language": "python",
   "name": "python3"
  },
  "language_info": {
   "codemirror_mode": {
    "name": "ipython",
    "version": 3
   },
   "file_extension": ".py",
   "mimetype": "text/x-python",
   "name": "python",
   "nbconvert_exporter": "python",
   "pygments_lexer": "ipython3",
   "version": "3.12.7"
  }
 },
 "nbformat": 4,
 "nbformat_minor": 5
}
